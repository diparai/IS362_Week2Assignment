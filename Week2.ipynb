{
 "cells": [
  {
   "cell_type": "markdown",
   "metadata": {},
   "source": [
    "# List or Set Comprehensions\n",
    "\n",
    " **List Comprehensions** provide us a simple way to create list based on some iterable. They tend to be more efficient both computationally  and also in terms of coding space and time than a *for* loop. Typically they are written in a single line of code.\n",
    " \n",
    "## Example of *for* loop without list comprehensions\n",
    "\n"
   ]
  },
  {
   "cell_type": "code",
   "execution_count": 3,
   "metadata": {},
   "outputs": [
    {
     "name": "stdout",
     "output_type": "stream",
     "text": [
      "[1, 2, 3, 4, 5, 6, 7, 8, 9, 10, 11, 12, 13, 14, 15, 16, 17, 18, 19, 20, 21, 22, 23, 24, 25, 26, 27, 28, 29, 30, 31, 32, 33, 34, 35, 36, 37, 38, 39, 40, 41, 42, 43, 44, 45, 46, 47, 48, 49, 50, 51, 52, 53, 54, 55, 56, 57, 58, 59, 60, 61, 62, 63, 64, 65, 66, 67, 68, 69, 70, 71, 72, 73, 74, 75, 76, 77, 78, 79, 80, 81, 82, 83, 84, 85, 86, 87, 88, 89, 90, 91, 92, 93, 94, 95, 96, 97, 98, 99]\n"
     ]
    }
   ],
   "source": [
    "\n",
    "newnum = []\n",
    "for num in range (1,100):\n",
    "    newnum.append(num)\n",
    "print(newnum)\n"
   ]
  },
  {
   "cell_type": "markdown",
   "metadata": {},
   "source": [
    " The above **result** can be achieved easily in less line of codes by the use of **list comprehensions** which is displayed below:\n",
    " "
   ]
  },
  {
   "cell_type": "code",
   "execution_count": 8,
   "metadata": {},
   "outputs": [
    {
     "name": "stdout",
     "output_type": "stream",
     "text": [
      "[1, 2, 3, 4, 5, 6, 7, 8, 9, 10, 11, 12, 13, 14, 15, 16, 17, 18, 19, 20, 21, 22, 23, 24, 25, 26, 27, 28, 29, 30, 31, 32, 33, 34, 35, 36, 37, 38, 39, 40, 41, 42, 43, 44, 45, 46, 47, 48, 49, 50, 51, 52, 53, 54, 55, 56, 57, 58, 59, 60, 61, 62, 63, 64, 65, 66, 67, 68, 69, 70, 71, 72, 73, 74, 75, 76, 77, 78, 79, 80, 81, 82, 83, 84, 85, 86, 87, 88, 89, 90, 91, 92, 93, 94, 95, 96, 97, 98, 99]\n"
     ]
    }
   ],
   "source": [
    "newnum = []\n",
    "x = [num for num in range(1,100)]\n",
    "print (x)"
   ]
  },
  {
   "cell_type": "markdown",
   "metadata": {},
   "source": [
    "# Zip( ) function\n",
    "   The **zip()** function returns a zip object which is an iterator of tuples where the first item in each passed iterator is paired together and then the second item in each passed iterator is paired together . The **zip()** function takes in iterable as arguments such as:\n",
    "    1.lists\n",
    "    2. files\n",
    "    3. tuples\n",
    "    4. sets, etc\n",
    "    \n",
    " ## Syntax :\n",
    "   **zip(iterator1,iterator2,iterator3.....)**\n",
    " \n",
    "### Example:\n"
   ]
  },
  {
   "cell_type": "code",
   "execution_count": 14,
   "metadata": {},
   "outputs": [
    {
     "name": "stdout",
     "output_type": "stream",
     "text": [
      "(('a', 1), ('b', 23), ('c', 20), ('d', 30), ('e', 40))\n"
     ]
    }
   ],
   "source": [
    "x = ('a','b','c','d','e')\n",
    "y = (1,23,20,30,40)\n",
    "a = zip (x,y)\n",
    "print(tuple(a))"
   ]
  },
  {
   "cell_type": "markdown",
   "metadata": {},
   "source": [
    "*But if one tuple contains more items than the other then they are ignored. For example:*"
   ]
  },
  {
   "cell_type": "code",
   "execution_count": 13,
   "metadata": {},
   "outputs": [
    {
     "name": "stdout",
     "output_type": "stream",
     "text": [
      "(('apple', 'John'), ('ball', 'Jack'), ('mango', 'Rick'))\n"
     ]
    }
   ],
   "source": [
    "a = ('apple','ball','mango')\n",
    "b = ('John','Jack','Rick','Nancy')\n",
    "x = zip(a,b)\n",
    "print(tuple(x))\n"
   ]
  },
  {
   "cell_type": "markdown",
   "metadata": {},
   "source": [
    "## References:\n",
    "  https://www.w3schools.com/python/ref_func_zip.asp\n",
    "  https://www.datacamp.com/community/tutorials/python-list-comprehension"
   ]
  },
  {
   "cell_type": "code",
   "execution_count": null,
   "metadata": {},
   "outputs": [],
   "source": []
  }
 ],
 "metadata": {
  "kernelspec": {
   "display_name": "Python 3",
   "language": "python",
   "name": "python3"
  },
  "language_info": {
   "codemirror_mode": {
    "name": "ipython",
    "version": 3
   },
   "file_extension": ".py",
   "mimetype": "text/x-python",
   "name": "python",
   "nbconvert_exporter": "python",
   "pygments_lexer": "ipython3",
   "version": "3.8.3"
  }
 },
 "nbformat": 4,
 "nbformat_minor": 4
}
